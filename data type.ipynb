{
 "cells": [
  {
   "cell_type": "code",
   "execution_count": 60,
   "id": "2a25e404-91cb-4e43-8797-903d97489325",
   "metadata": {},
   "outputs": [
    {
     "name": "stdout",
     "output_type": "stream",
     "text": [
      "['apple', 'banana ', 'mango']\n"
     ]
    }
   ],
   "source": [
    "#1 create list of fruits and add fruits in list\n",
    "my_fruits = ['apple', 'banana ', 'mango']\n",
    "print(my_fruits)"
   ]
  },
  {
   "cell_type": "code",
   "execution_count": 61,
   "id": "3adb2176-b627-4a0e-bd65-c3a3e86924c0",
   "metadata": {},
   "outputs": [],
   "source": [
    "# create a index one postive and one negavitve\n",
    "# create a 3 list and concatenate than a single list\n",
    "# write a python program to count the occurrence of a element given list\n",
    "# create a dicnarit to store the information age name location qualification gender\n",
    "# add a new key value in existing dictionary \n",
    "# create 2 dict merge them as a single dictionary\n",
    "# write a python program to remove keyvalue from a dictionary\n",
    "# create 2 sets each set contain 7 apply union ,intersection\n",
    "# create aset with 15 the much reapted values apply dulicate method"
   ]
  },
  {
   "cell_type": "code",
   "execution_count": 62,
   "id": "5889bf6e-6085-4226-b2ee-137ed9694e71",
   "metadata": {},
   "outputs": [
    {
     "name": "stdout",
     "output_type": "stream",
     "text": [
      "4\n",
      "8\n"
     ]
    }
   ],
   "source": [
    "#2 create a index one postive and one negavitve\n",
    "# Define a list\n",
    "my_list = [1, 2, 3, 4, 5, 6, 7, 8, 9, 10]\n",
    "\n",
    "# Positive index\n",
    "positive_index = 3\n",
    "\n",
    "# Negative index\n",
    "negative_index = -3\n",
    "\n",
    "print(positive_element)\n",
    "print(negative_element)\n"
   ]
  },
  {
   "cell_type": "code",
   "execution_count": 63,
   "id": "bc2a3177-2c60-47be-adbc-3a8e6e699de0",
   "metadata": {},
   "outputs": [
    {
     "name": "stdout",
     "output_type": "stream",
     "text": [
      "[1, 2, 3, 4, 5, 6, 7, 8, 9]\n"
     ]
    }
   ],
   "source": [
    "#3 create a 3 list and concatenated than a single list\n",
    "# Define three lists\n",
    "list1 = [1, 2, 3]\n",
    "list2 = [4, 5, 6]\n",
    "list3 = [7, 8, 9]\n",
    "\n",
    "# Concatenate the lists\n",
    "concatenated_list = list1 + list2 + list3\n",
    "\n",
    "print(concatenated_list)\n"
   ]
  },
  {
   "cell_type": "code",
   "execution_count": 64,
   "id": "18e8fe99-b97e-4fcc-bd78-0e56f45db87c",
   "metadata": {},
   "outputs": [
    {
     "name": "stdout",
     "output_type": "stream",
     "text": [
      "3\n"
     ]
    }
   ],
   "source": [
    "#4 write a python program to count the occurrence of a element given list\n",
    "list = [1,2,3,3,4,5,6,6,6,7,7,8,9,9,10]\n",
    "count =list.count(6)\n",
    "print(count)"
   ]
  },
  {
   "cell_type": "code",
   "execution_count": 65,
   "id": "8cba6897-53e0-4c0a-b0e1-5271b604e25f",
   "metadata": {},
   "outputs": [
    {
     "name": "stdout",
     "output_type": "stream",
     "text": [
      "Name: pushpa\n",
      "Age: 20\n",
      "Location: Hyderabad\n",
      "Qualification: Bachelor's Degree\n",
      "Gender: female\n"
     ]
    }
   ],
   "source": [
    "#5 create a dictionary to store the information age name location qualification gender\n",
    "# Create a dictionary to store information\n",
    "person_info = {\n",
    "    \"name\": \"pushpa\",\n",
    "    \"age\": 20,\n",
    "    \"location\": \"Hyderabad\",\n",
    "    \"qualification\": \"Bachelor's Degree\",\n",
    "    \"gender\": \"female\"\n",
    "}\n",
    "\n",
    "# Print information about the person\n",
    "print(\"Name:\", person_info[\"name\"])\n",
    "print(\"Age:\", person_info[\"age\"])\n",
    "print(\"Location:\", person_info[\"location\"])\n",
    "print(\"Qualification:\", person_info[\"qualification\"])\n",
    "print(\"Gender:\", person_info[\"gender\"])"
   ]
  },
  {
   "cell_type": "code",
   "execution_count": 66,
   "id": "bb95e6a3-8f98-47f1-a400-fb9fea261f2d",
   "metadata": {},
   "outputs": [
    {
     "name": "stdout",
     "output_type": "stream",
     "text": [
      "{'name': 'pushpa', 'age': 20, 'location': 'Hyderabad', 'qualification': \"Bachelor's Degree\", 'gender': 'female', 'email': 'gpushpadevi553@gmail.com'}\n"
     ]
    }
   ],
   "source": [
    "#6 add a new key value in existing dictionary\n",
    "person_info = {\n",
    "    \"name\": \"pushpa\",\n",
    "    \"age\": 20,\n",
    "    \"location\": \"Hyderabad\",\n",
    "    \"qualification\": \"Bachelor's Degree\",\n",
    "    \"gender\": \"female\"\n",
    "}\n",
    "new_data = {\"email\" : \"gpushpadevi553@gmail.com\"}\n",
    "person_info.update(new_data)\n",
    "print(person_info)"
   ]
  },
  {
   "cell_type": "code",
   "execution_count": 67,
   "id": "9e4c12b0-c2c3-4ff3-bb91-5fbada66ffd8",
   "metadata": {},
   "outputs": [
    {
     "name": "stdout",
     "output_type": "stream",
     "text": [
      "{'name': 'pushpa', 'age': 20, 'location': 'hyd', 'gender': 'female'}\n"
     ]
    }
   ],
   "source": [
    "#7 Two dictionaries to merge\n",
    "dict1 = {\"name\": \"pushpa\", \"age\": 20}\n",
    "dict2 = {\"location\": \"hyd\", \"gender\": \"female\"}\n",
    "\n",
    "# Merge dictionaries using dictionary unpacking **\n",
    "merged_dict = {**dict1, **dict2}\n",
    "\n",
    "# Print the merged dictionary\n",
    "print(merged_dict)\n"
   ]
  },
  {
   "cell_type": "code",
   "execution_count": 68,
   "id": "0488df78-e59d-4ead-80ec-ad52730337de",
   "metadata": {},
   "outputs": [
    {
     "name": "stdout",
     "output_type": "stream",
     "text": [
      "{'name': 'pushpa', 'location': 'Hyderabad', 'qualification': \"Bachelor's Degree\", 'gender': 'female'}\n"
     ]
    }
   ],
   "source": [
    "#8 write a python program to remove keyvalue from a dictionary\n",
    "my_dict = {\"name\": \"pushpa\",\n",
    "    \"age\": 20,\n",
    "    \"location\": \"Hyderabad\",\n",
    "    \"qualification\": \"Bachelor's Degree\",\n",
    "    \"gender\": \"female\"}\n",
    "# Key to remove\n",
    "key_to_remove = \"age\"\n",
    "\n",
    "# Remove key-value pair using pop() method\n",
    "my_dict.pop(key_to_remove)\n",
    "print(my_dict)\n"
   ]
  },
  {
   "cell_type": "code",
   "execution_count": 69,
   "id": "7d74642c-5765-4464-8c90-68b91146a730",
   "metadata": {},
   "outputs": [
    {
     "name": "stdout",
     "output_type": "stream",
     "text": [
      "Set 1: {1, 2, 3, 5, 6, 7, 101, 9, 200, 44, 108, 78}\n",
      "Set 2: {0, 1, 2, 3, 4, 5, 6, 7, 8, 9, 100, 1000}\n",
      "Union: {0, 1, 2, 3, 4, 5, 6, 7, 200, 9, 8, 78, 100, 101, 1000, 44, 108}\n",
      "Intersection: {1, 2, 3, 5, 6, 7, 9}\n",
      "Difference (Set 1 - Set 2): {101, 200, 108, 44, 78}\n",
      "Difference (Set 2 - Set 1): {0, 4, 100, 8, 1000}\n",
      "Symmetric Difference: {0, 4, 101, 8, 200, 100, 1000, 44, 108, 78}\n"
     ]
    }
   ],
   "source": [
    "#9 create 2sets each set contain 7 apply union ,intersection, difference,symmetric difference\n",
    "set1 = {1,2,3,3,44,5,5,6,7,78,9,9,101,108,200,200}\n",
    "set2 = {0,0,0,1,2,3,3,4,4,5,6,7,8,9,100,1000,100}\n",
    "\n",
    "# Apply set operations\n",
    "union_set = set1.union(set2)\n",
    "intersection_set = set1.intersection(set2)\n",
    "difference_set1_to_set2 = set1.difference(set2)\n",
    "difference_set2_to_set1 = set2.difference(set1)\n",
    "symmetric_difference_set = set1.symmetric_difference(set2)\n",
    "\n",
    "# Print the results\n",
    "print(\"Set 1:\", set1)\n",
    "print(\"Set 2:\", set2)\n",
    "print(\"Union:\", union_set)\n",
    "print(\"Intersection:\", intersection_set)\n",
    "print(\"Difference (Set 1 - Set 2):\", difference_set1_to_set2)\n",
    "print(\"Difference (Set 2 - Set 1):\", difference_set2_to_set1)\n",
    "print(\"Symmetric Difference:\", symmetric_difference_set)\n"
   ]
  },
  {
   "cell_type": "code",
   "execution_count": 70,
   "id": "a85c3671-5713-459e-ad09-8b2acc9fc6b9",
   "metadata": {},
   "outputs": [
    {
     "name": "stdout",
     "output_type": "stream",
     "text": [
      "Set with duplicates removed: {1, 2, 3, 4, 5, 6, 7, 8, 9, 10}\n"
     ]
    }
   ],
   "source": [
    "#10 create aset with 15 the much reapted values apply dulicate method\n",
    "# Create a list with repeated values\n",
    "values = [1, 2, 3, 4, 5, 5, 6, 6, 7, 7, 8, 8, 9, 9, 10]\n",
    "\n",
    "unique_values = set(values)\n",
    "\n",
    "# Print the set with duplicates removed\n",
    "print(\"Set with duplicates removed:\", unique_values)\n"
   ]
  },
  {
   "cell_type": "code",
   "execution_count": null,
   "id": "428a25c4-1882-4b7b-85d1-84b9db865abb",
   "metadata": {},
   "outputs": [],
   "source": []
  }
 ],
 "metadata": {
  "kernelspec": {
   "display_name": "Python 3 (ipykernel)",
   "language": "python",
   "name": "python3"
  },
  "language_info": {
   "codemirror_mode": {
    "name": "ipython",
    "version": 3
   },
   "file_extension": ".py",
   "mimetype": "text/x-python",
   "name": "python",
   "nbconvert_exporter": "python",
   "pygments_lexer": "ipython3",
   "version": "3.11.7"
  }
 },
 "nbformat": 4,
 "nbformat_minor": 5
}
