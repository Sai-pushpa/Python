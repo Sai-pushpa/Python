{
 "cells": [
  {
   "cell_type": "markdown",
   "id": "973ba630-62d6-48ae-a392-2b20f998890c",
   "metadata": {},
   "source": [
    "python string"
   ]
  },
  {
   "cell_type": "code",
   "execution_count": 1,
   "id": "343a9a03-e8e5-45f1-8c25-1ef07095e0a6",
   "metadata": {},
   "outputs": [
    {
     "name": "stdout",
     "output_type": "stream",
     "text": [
      "Hello, World!\n"
     ]
    }
   ],
   "source": [
    "# Creating a string\n",
    "my_string = \"Hello, World!\"\n",
    "print(my_string) "
   ]
  },
  {
   "cell_type": "code",
   "execution_count": 2,
   "id": "aeb22d30-6447-4e94-8299-42121d907557",
   "metadata": {},
   "outputs": [
    {
     "name": "stdout",
     "output_type": "stream",
     "text": [
      "pushpa\n"
     ]
    }
   ],
   "source": [
    "my_string = 'pushpa'\n",
    "print(my_string)"
   ]
  },
  {
   "cell_type": "code",
   "execution_count": 3,
   "id": "1ab79fc7-1fa3-4593-94b7-f9c42dbc5b18",
   "metadata": {},
   "outputs": [
    {
     "name": "stdout",
     "output_type": "stream",
     "text": [
      " hi\n"
     ]
    }
   ],
   "source": [
    "my_string = \"\"\" hi\"\"\"\n",
    "print(my_string)"
   ]
  },
  {
   "cell_type": "code",
   "execution_count": 4,
   "id": "35187da6-8e64-4756-a126-6e1cdeec8783",
   "metadata": {},
   "outputs": [
    {
     "name": "stdout",
     "output_type": "stream",
     "text": [
      "data science\n"
     ]
    }
   ],
   "source": [
    "# Concatenation\n",
    "string1 = \"data\"\n",
    "string2 = \"science\"\n",
    "concatenated_string = string1 + \" \" + string2\n",
    "print(concatenated_string) "
   ]
  },
  {
   "cell_type": "code",
   "execution_count": 17,
   "id": "fb9d7777-76b8-42b7-b8f3-2207bd7be5b9",
   "metadata": {},
   "outputs": [
    {
     "name": "stdout",
     "output_type": "stream",
     "text": [
      "Hello Hello Hello Hello  World World World World \n"
     ]
    }
   ],
   "source": [
    "#  repetition\n",
    "string1 = \"Hello\"\n",
    "string2 = \"World\"\n",
    "concatenated_string = (string1 + \" \") * 4 + \" \" + (string2 + \" \") * 4\n",
    "print(concatenated_string)"
   ]
  },
  {
   "cell_type": "code",
   "execution_count": 24,
   "id": "a51e1e58-c4c0-4fb6-905c-984871b687c7",
   "metadata": {},
   "outputs": [
    {
     "name": "stdout",
     "output_type": "stream",
     "text": [
      "Hello World  Hello World  Hello World  Hello World  \n"
     ]
    }
   ],
   "source": [
    "string1 = \"Hello\"\n",
    "string2 = \"World\"\n",
    "concatenated_string = (string1 + \" \"  + string2 + \"  \" ) * 4 \n",
    "print(concatenated_string)"
   ]
  },
  {
   "cell_type": "code",
   "execution_count": 52,
   "id": "702b69e4-d7c3-4539-b0f4-91cf8d566ac1",
   "metadata": {},
   "outputs": [
    {
     "name": "stdout",
     "output_type": "stream",
     "text": [
      "p\n",
      "n\n"
     ]
    }
   ],
   "source": [
    "#index\n",
    "string = \"python\"\n",
    "print(string[0])\n",
    "print(string[-1])"
   ]
  },
  {
   "cell_type": "code",
   "execution_count": 61,
   "id": "c2455bf6-6f9b-4fdc-a768-318c08fc9ba7",
   "metadata": {},
   "outputs": [
    {
     "name": "stdout",
     "output_type": "stream",
     "text": [
      " \n"
     ]
    }
   ],
   "source": [
    "string_quote = \"Success is not final failure is not fatal, It is the courage to continue that counts\"\n",
    "print(string_quote[10])"
   ]
  },
  {
   "cell_type": "code",
   "execution_count": 66,
   "id": "0e5e652f-1ae9-4db7-ba31-2a189f45b0e7",
   "metadata": {},
   "outputs": [
    {
     "name": "stdout",
     "output_type": "stream",
     "text": [
      "o, w\n"
     ]
    }
   ],
   "source": [
    "#slicing\n",
    "my_string = \" hello, world \"\n",
    "substring = my_string[5:9]\n",
    "print(substring)"
   ]
  },
  {
   "cell_type": "code",
   "execution_count": 70,
   "id": "901871ce-1e36-4e2b-82a3-2a9c65a885df",
   "metadata": {},
   "outputs": [
    {
     "name": "stdout",
     "output_type": "stream",
     "text": [
      " not final\n"
     ]
    }
   ],
   "source": [
    "my_string = \"Success is not final failure is not fatal, It is the courage to continue that counts\"\n",
    "substring = my_string[10:20]\n",
    "print(substring)"
   ]
  },
  {
   "cell_type": "code",
   "execution_count": 77,
   "id": "c1059335-f467-48a8-8e61-14b662414213",
   "metadata": {},
   "outputs": [
    {
     "name": "stdout",
     "output_type": "stream",
     "text": [
      "My name is pushpa and I'm 20 years old.\n"
     ]
    }
   ],
   "source": [
    "# python format string %\n",
    "name = \"pushpa\"\n",
    "age = 20\n",
    "formatted_string = \"My name is %s and I'm %d years old.\" % (name, age)\n",
    "print(formatted_string)"
   ]
  },
  {
   "cell_type": "code",
   "execution_count": 78,
   "id": "76eb4ac1-677d-4441-b35e-5778583eca32",
   "metadata": {},
   "outputs": [
    {
     "name": "stdout",
     "output_type": "stream",
     "text": [
      "My name is pushpa and I'm 30 years old.\n"
     ]
    }
   ],
   "source": [
    "# format method ()\n",
    "name = 'pushpa'\n",
    "age = 30\n",
    "formatted_string = \"My name is {} and I'm {} years old.\".format(name, age)\n",
    "print(formatted_string)"
   ]
  },
  {
   "cell_type": "code",
   "execution_count": 79,
   "id": "3f57d2b7-ba67-4c4f-8002-81d31c8c77fd",
   "metadata": {},
   "outputs": [
    {
     "name": "stdout",
     "output_type": "stream",
     "text": [
      "\n",
      "Hello, my name is Pushpa. \n",
      "I have completed my UG in Kakinada in the stream of BBA.\n",
      "I have a passion for drawing, editing, and photography.\n",
      "In my free time, I enjoy indulging in these activities.\n",
      "\n"
     ]
    }
   ],
   "source": [
    "# f\"\"\" string\n",
    "name = \"Pushpa\"\n",
    "education = \"UG in Kakinada in the stream of BBA\"\n",
    "interests = \"drawing, editing, and photography\"\n",
    "intro = f\"\"\"\n",
    "Hello, my name is {name}. \n",
    "I have completed my {education}.\n",
    "I have a passion for {interests}.\n",
    "In my free time, I enjoy indulging in these activities.\n",
    "\"\"\"\n",
    "print(intro)"
   ]
  },
  {
   "cell_type": "code",
   "execution_count": 81,
   "id": "857121e3-baac-49bb-999e-04cfb9ba791c",
   "metadata": {},
   "outputs": [
    {
     "name": "stdout",
     "output_type": "stream",
     "text": [
      "218\n"
     ]
    }
   ],
   "source": [
    "#string methods\n",
    "# len\n",
    "my_string = \"\"\"Lost in a maze of memories, a weary traveler seeks the light of hope amidst the shadows of doubt. \n",
    "With each step, they unravel the mysteries of their past, guided by the flickering flames of resilience burning within.\"\"\"\n",
    "length = len(my_string)\n",
    "print(length)"
   ]
  },
  {
   "cell_type": "code",
   "execution_count": 85,
   "id": "5981b8f4-22ef-4426-aa66-1c5bdcf65fda",
   "metadata": {},
   "outputs": [
    {
     "name": "stdout",
     "output_type": "stream",
     "text": [
      "ABCDEFGHIJKLMNOPQRSTUVWXYZ\n",
      "abcdefghijklmnopqrstuvwxyz\n"
     ]
    }
   ],
   "source": [
    "# lower and upper\n",
    "my_string1 = 'abcdefghijklmnopqrstuvwxyz'\n",
    "my_string2 = 'ABCDEFGHIJKLMNOPQRSTUVWXYZ'\n",
    "print(my_string1.upper())\n",
    "print(my_string2.lower())"
   ]
  },
  {
   "cell_type": "code",
   "execution_count": 87,
   "id": "423f5b6d-d028-4a0d-9071-e3ec2e4dc53c",
   "metadata": {},
   "outputs": [
    {
     "name": "stdout",
     "output_type": "stream",
     "text": [
      "Hello, World!\n"
     ]
    }
   ],
   "source": [
    "#strip\n",
    "string = \"  Hello, World!   \"\n",
    "stripped_text = string.strip()\n",
    "print(stripped_text) "
   ]
  },
  {
   "cell_type": "code",
   "execution_count": 89,
   "id": "50c33b4d-6720-4caf-82ef-4c7f3544e336",
   "metadata": {},
   "outputs": [
    {
     "name": "stdout",
     "output_type": "stream",
     "text": [
      "Lost in a maze of memories, a weary traveler seeks the light of hope amidst the shadows of doubt. \n",
      "With each step, they unravel the mysteries of their past, guided by the flickering flames of resilience burning within.\n"
     ]
    }
   ],
   "source": [
    "multi_string = \"\"\"Lost in a maze of memories, a weary traveler seeks the light of hope amidst the shadows of doubt. \n",
    "With each step, they unravel the mysteries of their past, guided by the flickering flames of resilience burning within.   \"\"\"\n",
    "stripped_text = multi_string.strip()\n",
    "print(stripped_text) "
   ]
  },
  {
   "cell_type": "code",
   "execution_count": 91,
   "id": "6cc7a258-22c9-4d97-96bc-4407d8edbc6d",
   "metadata": {},
   "outputs": [
    {
     "name": "stdout",
     "output_type": "stream",
     "text": [
      "1 1 two 1 two three\n"
     ]
    }
   ],
   "source": [
    "#replace\n",
    "text = \"one one two one two three\"\n",
    "new_text = text.replace(\"one\", \"1\")\n",
    "print(new_text)  "
   ]
  },
  {
   "cell_type": "code",
   "execution_count": 94,
   "id": "4761f6df-6dc8-45ba-881b-0b10a2bbe3cf",
   "metadata": {},
   "outputs": [
    {
     "name": "stdout",
     "output_type": "stream",
     "text": [
      "one one 2 one 2 three\n"
     ]
    }
   ],
   "source": [
    "text = \"one one two one two three\"\n",
    "new_text = text.replace(\"two\", \"2\", )\n",
    "print(new_text) "
   ]
  },
  {
   "cell_type": "code",
   "execution_count": 95,
   "id": "f8881f3d-79b3-4e59-9f33-ab557a249e6f",
   "metadata": {},
   "outputs": [
    {
     "name": "stdout",
     "output_type": "stream",
     "text": [
      "['Hello,', 'World!']\n"
     ]
    }
   ],
   "source": [
    "#split \n",
    "string = \"Hello, World!\"\n",
    "words = string.split()\n",
    "print(words) "
   ]
  },
  {
   "cell_type": "code",
   "execution_count": 96,
   "id": "0d82ef2c-ce70-4672-9fdd-5d1917a62114",
   "metadata": {},
   "outputs": [
    {
     "name": "stdout",
     "output_type": "stream",
     "text": [
      "['', ',banana,orange']\n"
     ]
    }
   ],
   "source": [
    "string = \"apple,banana,orange\"\n",
    "fruits = string.split(\"apple\")\n",
    "print(fruits)"
   ]
  },
  {
   "cell_type": "code",
   "execution_count": 97,
   "id": "ab5f820d-780f-45ce-8f70-2b63901737f8",
   "metadata": {},
   "outputs": [
    {
     "name": "stdout",
     "output_type": "stream",
     "text": [
      "['apple', 'banana', 'orange']\n"
     ]
    }
   ],
   "source": [
    "split = \"apple,banana,orange\"\n",
    "fruits = split.split(\",\")\n",
    "print(fruits)"
   ]
  },
  {
   "cell_type": "code",
   "execution_count": 98,
   "id": "938943e5-6ea1-4cf7-b271-70bfc010abe5",
   "metadata": {},
   "outputs": [
    {
     "name": "stdout",
     "output_type": "stream",
     "text": [
      "apple, banana, orange\n"
     ]
    }
   ],
   "source": [
    "# join\n",
    "fruits = [\"apple\", \"banana\", \"orange\"]\n",
    "fruit_string = \", \".join(fruits)\n",
    "print(fruit_string) "
   ]
  },
  {
   "cell_type": "code",
   "execution_count": 112,
   "id": "aae58410-cabe-44c6-9de0-06cc8ba7c6c2",
   "metadata": {},
   "outputs": [
    {
     "name": "stdout",
     "output_type": "stream",
     "text": [
      "abcd\n"
     ]
    }
   ],
   "source": [
    "characters = ['a', 'b', 'c', 'd']\n",
    "char_string = ''.join(characters) \n",
    "print(char_string) "
   ]
  },
  {
   "cell_type": "code",
   "execution_count": null,
   "id": "00db13bd-56b4-4e23-8688-4f00bf641b8d",
   "metadata": {},
   "outputs": [],
   "source": []
  }
 ],
 "metadata": {
  "kernelspec": {
   "display_name": "Python 3 (ipykernel)",
   "language": "python",
   "name": "python3"
  },
  "language_info": {
   "codemirror_mode": {
    "name": "ipython",
    "version": 3
   },
   "file_extension": ".py",
   "mimetype": "text/x-python",
   "name": "python",
   "nbconvert_exporter": "python",
   "pygments_lexer": "ipython3",
   "version": "3.11.7"
  }
 },
 "nbformat": 4,
 "nbformat_minor": 5
}
